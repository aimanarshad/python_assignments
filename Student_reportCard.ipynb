{
  "nbformat": 4,
  "nbformat_minor": 0,
  "metadata": {
    "colab": {
      "provenance": [],
      "authorship_tag": "ABX9TyMxcVX+m/P7FRTYvDEhTR7i",
      "include_colab_link": true
    },
    "kernelspec": {
      "name": "python3",
      "display_name": "Python 3"
    },
    "language_info": {
      "name": "python"
    }
  },
  "cells": [
    {
      "cell_type": "markdown",
      "metadata": {
        "id": "view-in-github",
        "colab_type": "text"
      },
      "source": [
        "<a href=\"https://colab.research.google.com/github/aimanarshad/python_assignments/blob/main/Student_reportCard.ipynb\" target=\"_parent\"><img src=\"https://colab.research.google.com/assets/colab-badge.svg\" alt=\"Open In Colab\"/></a>"
      ]
    },
    {
      "cell_type": "code",
      "execution_count": null,
      "metadata": {
        "id": "njyiFkogWn0X"
      },
      "outputs": [],
      "source": [
        "from google.colab import auth\n",
        "auth.authenticate_user()\n"
      ]
    },
    {
      "cell_type": "code",
      "source": [
        "!git config --global user.email \"aimanat2022@gmail.com\"\n",
        "!git config --global user.name \"aimanarshad\"\n"
      ],
      "metadata": {
        "id": "4pqfmrFSW_48"
      },
      "execution_count": null,
      "outputs": []
    },
    {
      "cell_type": "markdown",
      "source": [
        "1. Data Input\n",
        "Prompt user to enter:\n",
        "Student Name (string)\n",
        "Roll Number (string)\n",
        "Marks (int) for Math, Physics, Urdu, English, Computer\n",
        "Validate marks (0–100) & handle non-numeric input.\n",
        "Confirm record insertion:\n",
        "\"Record of [Student Name] inserted successfully.\"\n",
        "Ask: \"Do you want to insert more? (Y/N)\"\n",
        "Accept only 'Y' or 'N', repeat input if invalid.\n",
        "2. Report Generation\n",
        "Display all students' records.\n",
        "Calculate:\n",
        "Total Marks = Sum of all subjects.\n",
        "Percentage = (Total Marks / 500) × 100\n",
        "Assign Grade based on percentage:\n",
        "40–49% → F\n",
        "50–59% → C\n",
        "60–69% → B\n",
        "70–79% → A\n",
        "80%+ → A+\n",
        "3. Additional Features\n",
        "Error Handling: Reject invalid marks & choices.\n",
        "Loop until 'N' is entered.\n",
        "Display formatted report card for each student."
      ],
      "metadata": {
        "id": "CTiO9QFcXb8z"
      }
    },
    {
      "cell_type": "code",
      "source": [
        "def get_valid_marks(subject):\n",
        "    while True:\n",
        "        marks = input(f\"Enter marks for {subject} (0-100): \")\n",
        "        if marks.isdigit():\n",
        "            marks = int(marks)\n",
        "            if 0 <= marks <= 100:\n",
        "                return marks\n",
        "        print(\"Invalid input! Please enter a number between 0 and 100.\")\n",
        "\n",
        "def get_student_data():\n",
        "    student = {}\n",
        "    student[\"name\"] = input(\"Enter Student Name: \")\n",
        "    student[\"roll_number\"] = input(\"Enter Roll Number: \")\n",
        "\n",
        "    subjects = [\"Math\", \"Physics\", \"Urdu\", \"English\", \"Computer\"]\n",
        "    student[\"marks\"] = {subject: get_valid_marks(subject) for subject in subjects}\n",
        "\n",
        "    print(f\"Record of {student['name']} inserted successfully.\")\n",
        "    return student\n",
        "\n",
        "def calculate_results(student):\n",
        "    total_marks = sum(student[\"marks\"].values())\n",
        "    percentage = (total_marks / 500) * 100\n",
        "\n",
        "    if percentage < 50:\n",
        "        grade = \"F\"\n",
        "    elif percentage < 60:\n",
        "        grade = \"C\"\n",
        "    elif percentage < 70:\n",
        "        grade = \"B\"\n",
        "    elif percentage < 80:\n",
        "        grade = \"A\"\n",
        "    else:\n",
        "        grade = \"A+\"\n",
        "\n",
        "    student[\"total_marks\"] = total_marks\n",
        "    student[\"percentage\"] = percentage\n",
        "    student[\"grade\"] = grade\n",
        "\n",
        "def display_report(students):\n",
        "    print(\"\\n===== Student Report Cards =====\\n\")\n",
        "    for student in students:\n",
        "        calculate_results(student)\n",
        "        print(f\"Student Name: {student['name']}\")\n",
        "        print(f\"Roll Number: {student['roll_number']}\")\n",
        "        print(\"Marks:\")\n",
        "        for subject, marks in student[\"marks\"].items():\n",
        "            print(f\"  {subject}: {marks}\")\n",
        "        print(f\"Total Marks: {student['total_marks']} / 500\")\n",
        "        print(f\"Percentage: {student['percentage']:.2f}%\")\n",
        "        print(f\"Grade: {student['grade']}\")\n",
        "        print(\"-\" * 30)\n",
        "\n",
        "students = []\n",
        "while True:\n",
        "    students.append(get_student_data())\n",
        "\n",
        "    choice = input(\"Do you want to insert more? (Y/N): \").strip().upper()\n",
        "    while choice not in [\"Y\", \"N\"]:\n",
        "        print(\"Invalid choice! Enter 'Y' or 'N'.\")\n",
        "        choice = input(\"Do you want to insert more? (Y/N): \").strip().upper()\n",
        "\n",
        "    if choice == \"N\":\n",
        "        break\n",
        "\n",
        "display_report(students)\n"
      ],
      "metadata": {
        "colab": {
          "base_uri": "https://localhost:8080/"
        },
        "id": "bAWFRvbuXeoq",
        "outputId": "c7f24982-37a2-47f2-a6e1-547df1573010"
      },
      "execution_count": null,
      "outputs": [
        {
          "output_type": "stream",
          "name": "stdout",
          "text": [
            "Enter Student Name: aimman\n",
            "Enter Roll Number: 234\n",
            "Enter marks for Math (0-100): 32\n",
            "Enter marks for Physics (0-100): 42\n",
            "Enter marks for Urdu (0-100): 32\n",
            "Enter marks for English (0-100): 543\n",
            "Invalid input! Please enter a number between 0 and 100.\n",
            "Enter marks for English (0-100): 32\n",
            "Enter marks for Computer (0-100): 43\n",
            "Record of aimman inserted successfully.\n",
            "Do you want to insert more? (Y/N): N\n",
            "\n",
            "===== Student Report Cards =====\n",
            "\n",
            "Student Name: aimman\n",
            "Roll Number: 234\n",
            "Marks:\n",
            "  Math: 32\n",
            "  Physics: 42\n",
            "  Urdu: 32\n",
            "  English: 32\n",
            "  Computer: 43\n",
            "Total Marks: 181 / 500\n",
            "Percentage: 36.20%\n",
            "Grade: F\n",
            "------------------------------\n"
          ]
        }
      ]
    }
  ]
}